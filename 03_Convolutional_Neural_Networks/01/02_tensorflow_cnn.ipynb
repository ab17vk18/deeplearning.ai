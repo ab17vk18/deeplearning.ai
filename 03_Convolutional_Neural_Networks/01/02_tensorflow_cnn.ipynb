{
 "cells": [
  {
   "cell_type": "markdown",
   "metadata": {},
   "source": [
    "## CNN Tensorflow\n",
    "\n",
    "Build and train a Convolutional Neural Network in TensorFlow for a classification problem "
   ]
  },
  {
   "cell_type": "code",
   "execution_count": 1,
   "metadata": {},
   "outputs": [],
   "source": [
    "import math\n",
    "import numpy as np\n",
    "import h5py\n",
    "import matplotlib.pyplot as plt\n",
    "import scipy\n",
    "from PIL import Image\n",
    "from scipy import ndimage\n",
    "import tensorflow as tf\n",
    "from tensorflow.python.framework import ops\n",
    "from cnn_utils import *\n",
    "import joblib\n",
    "import os\n",
    "\n",
    "%matplotlib inline\n",
    "np.random.seed(1)"
   ]
  },
  {
   "cell_type": "code",
   "execution_count": 2,
   "metadata": {},
   "outputs": [
    {
     "data": {
      "text/plain": [
       "'1.10.0'"
      ]
     },
     "execution_count": 2,
     "metadata": {},
     "output_type": "execute_result"
    }
   ],
   "source": [
    "tf.__version__"
   ]
  },
  {
   "cell_type": "code",
   "execution_count": 3,
   "metadata": {},
   "outputs": [],
   "source": [
    "# Load the dataset\n",
    "X_train_orig, Y_train_orig, X_test_orig, Y_test_orig, classes = load_dataset()"
   ]
  },
  {
   "cell_type": "code",
   "execution_count": 4,
   "metadata": {},
   "outputs": [
    {
     "name": "stdout",
     "output_type": "stream",
     "text": [
      "y = 2\n"
     ]
    },
    {
     "data": {
      "image/png": "[encoded data removed]",
      "text/plain": [
       "<Figure size 432x288 with 1 Axes>"
      ]
     },
     "metadata": {
      "needs_background": "light"
     },
     "output_type": "display_data"
    }
   ],
   "source": [
    "# Example of a picture\n",
    "index = 6\n",
    "plt.imshow(X_train_orig[index])\n",
    "print (\"y = \" + str(np.squeeze(Y_train_orig[:, index])))"
   ]
  },
  {
   "cell_type": "code",
   "execution_count": 5,
   "metadata": {},
   "outputs": [
    {
     "name": "stdout",
     "output_type": "stream",
     "text": [
      "number of training examples = 1080\n",
      "number of test examples = 120\n",
      "X_train shape: (1080, 64, 64, 3)\n",
      "Y_train shape: (1080, 6)\n",
      "X_test shape: (120, 64, 64, 3)\n",
      "Y_test shape: (120, 6)\n"
     ]
    }
   ],
   "source": [
    "X_train = X_train_orig/255.\n",
    "X_test = X_test_orig/255.\n",
    "Y_train = convert_to_one_hot(Y_train_orig, 6).T\n",
    "Y_test = convert_to_one_hot(Y_test_orig, 6).T\n",
    "print (\"number of training examples = \" + str(X_train.shape[0]))\n",
    "print (\"number of test examples = \" + str(X_test.shape[0]))\n",
    "print (\"X_train shape: \" + str(X_train.shape))\n",
    "print (\"Y_train shape: \" + str(Y_train.shape))\n",
    "print (\"X_test shape: \" + str(X_test.shape))\n",
    "print (\"Y_test shape: \" + str(Y_test.shape))\n",
    "conv_layers = {}"
   ]
  },
  {
   "cell_type": "markdown",
   "metadata": {},
   "source": [
    "#### Create Placeholders"
   ]
  },
  {
   "cell_type": "code",
   "execution_count": 6,
   "metadata": {},
   "outputs": [],
   "source": [
    "def create_placeholders(nh, nw, nc, ny):\n",
    "    \"\"\"\n",
    "    Creates the placeholders for the tensorflow session.\n",
    "    \n",
    "    Arguments:\n",
    "    nh -- scalar, height of an input image\n",
    "    nw -- scalar, width of an input image\n",
    "    nc -- scalar, number of channels of the input\n",
    "    ny -- scalar, number of classes\n",
    "        \n",
    "    Returns:\n",
    "    X -- placeholder for the data input, of shape [None, nh, nw, nc] and dtype \"float\"\n",
    "    Y -- placeholder for the input labels, of shape [None, ny] and dtype \"float\"\n",
    "    \"\"\"\n",
    "    \n",
    "    X = tf.placeholder(tf.float32, shape=(None, nh, nw, nc))\n",
    "    Y = tf.placeholder(tf.float32, shape=(None, ny))\n",
    "    \n",
    "    return X, Y"
   ]
  },
  {
   "cell_type": "code",
   "execution_count": 7,
   "metadata": {},
   "outputs": [
    {
     "name": "stdout",
     "output_type": "stream",
     "text": [
      "X = Tensor(\"Placeholder:0\", shape=(?, 64, 64, 3), dtype=float32)\n",
      "Y = Tensor(\"Placeholder_1:0\", shape=(?, 6), dtype=float32)\n"
     ]
    }
   ],
   "source": [
    "X, Y = create_placeholders(64, 64, 3, 6)\n",
    "print (\"X = \" + str(X))\n",
    "print (\"Y = \" + str(Y))"
   ]
  },
  {
   "cell_type": "markdown",
   "metadata": {},
   "source": [
    "### Initialize parameters"
   ]
  },
  {
   "cell_type": "code",
   "execution_count": 80,
   "metadata": {},
   "outputs": [],
   "source": [
    "def initialize_parameters():\n",
    "    \"\"\"\n",
    "    Initializes Filters and Weight parameters to build a neural network with tensorflow. The shapes are:\n",
    "                        F1 = W1 : [3, 3, 3, 16]\n",
    "                        F2 = W2 : [3, 3, 16, 8]\n",
    "    Returns:\n",
    "    parameters -- a dictionary of tensors containing W1, W2\n",
    "    \"\"\"\n",
    "    \n",
    "    tf.set_random_seed(1)\n",
    "    \n",
    "    W1 = tf.get_variable(\"W1\", shape=(3, 3, 3, 8), initializer=tf.contrib.layers.xavier_initializer(seed=0))\n",
    "    W2 = tf.get_variable(\"W2\", shape=(3, 3, 8, 32), initializer=tf.contrib.layers.xavier_initializer(seed=0))\n",
    "    W3 = tf.get_variable(\"W3\", shape=(256, 2048), initializer=tf.contrib.layers.xavier_initializer(seed=0))\n",
    "    b3 = tf.get_variable(\"b3\", shape=(256, 1), initializer=tf.zeros_initializer())\n",
    "    W4 = tf.get_variable(\"W4\", shape=(6, 256), initializer=tf.contrib.layers.xavier_initializer(seed=0))\n",
    "    b4 = tf.get_variable(\"b4\", shape=(6, 1), initializer=tf.zeros_initializer())\n",
    "    \n",
    "    parameters = {\n",
    "        \"W1\" : W1,\n",
    "        \"W2\" : W2,\n",
    "        \"W3\" : W3,\n",
    "        \"b3\" : b3,\n",
    "        \"W4\" : W4,\n",
    "        \"b4\" : b4\n",
    "    }\n",
    "    \n",
    "    return parameters"
   ]
  },
  {
   "cell_type": "code",
   "execution_count": 81,
   "metadata": {},
   "outputs": [
    {
     "name": "stdout",
     "output_type": "stream",
     "text": [
      "The shapes of parameters: \n",
      "W1 = (3, 3, 3, 8)\n",
      "W2 = (3, 3, 8, 32)\n",
      "W3 = (256, 2048)\n",
      "b3 = (256, 1)\n",
      "W4 = (6, 256)\n",
      "b4 = (6, 1)\n"
     ]
    }
   ],
   "source": [
    "tf.reset_default_graph()\n",
    "\n",
    "with tf.Session() as test_sess:\n",
    "    parameters = initialize_parameters()\n",
    "    init = tf.global_variables_initializer()\n",
    "    test_sess.run(init)\n",
    "    print(\"The shapes of parameters: \")\n",
    "    print(\"W1 = \" + str(parameters[\"W1\"].shape))\n",
    "    print(\"W2 = \" + str(parameters[\"W2\"].shape))\n",
    "    print(\"W3 = \" + str(parameters[\"W3\"].shape))\n",
    "    print(\"b3 = \" + str(parameters[\"b3\"].shape))\n",
    "    print(\"W4 = \" + str(parameters[\"W4\"].shape))\n",
    "    print(\"b4 = \" + str(parameters[\"b4\"].shape))\n",
    "    "
   ]
  },
  {
   "cell_type": "markdown",
   "metadata": {},
   "source": [
    "### Forward propagation"
   ]
  },
  {
   "cell_type": "code",
   "execution_count": 82,
   "metadata": {},
   "outputs": [],
   "source": [
    "def forward_propagation(X, parameters):\n",
    "    \"\"\"\n",
    "    Implements the forward propagation for the model:\n",
    "    CONV2D -> RELU -> MAXPOOL -> CONV2D -> RELU -> MAXPOOL -> FLATTEN -> FC(256 UNITS) -> RELU -> DROPOUT -> FC(6 UNITS)\n",
    "    \n",
    "    Arguments:\n",
    "    X -- input dataset placeholder, of shape (input size, number of examples)\n",
    "    parameters -- python dictionary containing your parameters \"W1\", \"W2\", \"W3\", \"b3\", \"W4\", \"b4\"\n",
    "                  the shapes are given in initialize_parameters\n",
    "\n",
    "    Returns:\n",
    "    Z4 -- the output of the last LINEAR unit\n",
    "    \"\"\"\n",
    "    \n",
    "    W1 = parameters[\"W1\"]\n",
    "    W2 = parameters[\"W2\"]\n",
    "    W3 = parameters[\"W3\"]\n",
    "    b3 = parameters[\"b3\"]\n",
    "    W4 = parameters[\"W4\"]\n",
    "    b4 = parameters[\"b4\"]\n",
    "    \n",
    "    # First Convolutional Layer + Maxpool\n",
    "    Z1 = tf.nn.conv2d(X, W1, strides=[1,1,1,1], padding=\"SAME\")\n",
    "    A1 = tf.nn.relu(Z1)\n",
    "    A1 = tf.nn.max_pool(A1, ksize=[1,4,4,1], strides=[1,4,4,1], padding=\"SAME\")\n",
    "    \n",
    "    # Second Convolutional Layer + Maxpool\n",
    "    Z2 = tf.nn.conv2d(A1, W2, strides=[1,1,1,1], padding=\"SAME\")\n",
    "    A2 = tf.nn.relu(Z2)\n",
    "    A2 = tf.nn.max_pool(A2, ksize=[1,2,2,1], strides=[1,2,2,1], padding=\"SAME\")\n",
    "    \n",
    "    # Flatten\n",
    "    A2 = tf.contrib.layers.flatten(A2)\n",
    "    \n",
    "    # Fully Connected layer with dropout \n",
    "    # Input shapes: A2 - (m, 2048) W3 - (256, 2048) b3 - (256, 1); Output shape: A3 - (m, 256)\n",
    "    Z3 = tf.add(tf.matmul(A2, tf.transpose(W3)), tf.transpose(b3)) \n",
    "    A3 = tf.nn.relu(Z3)\n",
    "    A3 = tf.nn.dropout(A3, 0.5)\n",
    "    \n",
    "    # Fully Connected layer without activation - Logits\n",
    "    # Input shapes: A3 - (m, 256) W4 - (6, 256), b4 - (6, 1); Output shape: Z4 - (m, 6)\n",
    "    Z4 = tf.add(tf.matmul(A3, tf.transpose(W4)), tf.transpose(b4))\n",
    "    \n",
    "    return Z4"
   ]
  },
  {
   "cell_type": "code",
   "execution_count": 83,
   "metadata": {},
   "outputs": [
    {
     "name": "stdout",
     "output_type": "stream",
     "text": [
      "Z4 = [[ 1.4020364   0.08449285  0.30149716  0.5080071  -2.2559445   1.2798958 ]\n",
      " [ 0.6930938  -1.0082471  -3.0650344   0.42669046 -2.5822346   0.9189383 ]]\n"
     ]
    }
   ],
   "source": [
    "tf.reset_default_graph()\n",
    "\n",
    "with tf.Session() as test_sess:\n",
    "    np.random.seed(1)\n",
    "    X, Y = create_placeholders(64, 64, 3, 6)\n",
    "    parameters = initialize_parameters()\n",
    "    Z4 = forward_propagation(X, parameters)\n",
    "    init = tf.global_variables_initializer()\n",
    "    test_sess.run(init)\n",
    "    a = test_sess.run(Z4, feed_dict={X: np.random.randn(2,64,64,3),\n",
    "                                     Y: np.random.randn(2,6)})\n",
    "    print(\"Z4 = \" + str(a))"
   ]
  },
  {
   "cell_type": "markdown",
   "metadata": {},
   "source": [
    "### Compute cost"
   ]
  },
  {
   "cell_type": "code",
   "execution_count": 12,
   "metadata": {},
   "outputs": [],
   "source": [
    "def compute_cost(Z4, Y):\n",
    "    \"\"\"\n",
    "    Computes the cost\n",
    "    \n",
    "    Arguments:\n",
    "    Z3 -- output of forward propagation (output of the last LINEAR unit), of shape (6, number of examples)\n",
    "    Y -- \"true\" labels vector placeholder, same shape as Z3\n",
    "    \n",
    "    Returns:\n",
    "    cost - Tensor of the cost function\n",
    "    \"\"\"\n",
    "    \n",
    "    cost = tf.nn.softmax_cross_entropy_with_logits(logits=Z4, labels=Y)\n",
    "    return tf.reduce_mean(cost)"
   ]
  },
  {
   "cell_type": "code",
   "execution_count": 13,
   "metadata": {},
   "outputs": [
    {
     "name": "stdout",
     "output_type": "stream",
     "text": [
      "WARNING:tensorflow:From <ipython-input-12-2e28d7ad5c61>:13: softmax_cross_entropy_with_logits (from tensorflow.python.ops.nn_ops) is deprecated and will be removed in a future version.\n",
      "Instructions for updating:\n",
      "\n",
      "Future major versions of TensorFlow will allow gradients to flow\n",
      "into the labels input on backprop by default.\n",
      "\n",
      "See @{tf.nn.softmax_cross_entropy_with_logits_v2}.\n",
      "\n",
      "cost = -2.1304715\n"
     ]
    }
   ],
   "source": [
    "tf.reset_default_graph()\n",
    "\n",
    "with tf.Session() as sess:\n",
    "    np.random.seed(1)\n",
    "    X, Y = create_placeholders(64, 64, 3, 6)\n",
    "    parameters = initialize_parameters()\n",
    "    Z4 = forward_propagation(X, parameters)\n",
    "    cost = compute_cost(Z4, Y)\n",
    "    init = tf.global_variables_initializer()\n",
    "    sess.run(init)\n",
    "    a = sess.run(cost, {X: np.random.randn(4,64,64,3), Y: np.random.randn(4,6)})\n",
    "    print(\"cost = \" + str(a))\n"
   ]
  },
  {
   "cell_type": "markdown",
   "metadata": {},
   "source": [
    "### Model - Stitching the pieces together\n",
    "\n",
    "The model below should:\n",
    "\n",
    "    create placeholders \n",
    "    initialize parameters \n",
    "    forward propagate \n",
    "    compute the cost \n",
    "    create an optimizer \n"
   ]
  },
  {
   "cell_type": "code",
   "execution_count": 86,
   "metadata": {},
   "outputs": [],
   "source": [
    "def model(X_train, y_train, X_test, y_test, alpha=0.009, epochs=100, batch_size=64, verbose=True):\n",
    "    \"\"\"\n",
    "    CONV2D -> RELU -> MAXPOOL -> CONV2D -> RELU -> MAXPOOL -> FLATTEN -> FC(128 UNITS) -> RELU -> DROPOUT -> FC(6 UNITS)\n",
    "    Arguments:\n",
    "    X_train -- training set, of shape (None, 64, 64, 3)\n",
    "    y_train -- test set, of shape (None, n_y = 6)\n",
    "    X_test -- training set, of shape (None, 64, 64, 3)\n",
    "    y_test -- test set, of shape (None, n_y = 6)\n",
    "    alpha -- learning rate of the optimization\n",
    "    epochs -- number of epochs of the optimization loop\n",
    "    batch_size -- size of a minibatch\n",
    "    verbose -- True to print the cost every 100 epochs\n",
    "    \n",
    "    Returns:\n",
    "    parameters -- parameters learnt by the model. They can then be used to predict.\n",
    "    \"\"\"\n",
    "    \n",
    "    ops.reset_default_graph()\n",
    "    tf.set_random_seed(1)\n",
    "    costs = []\n",
    "    \n",
    "    # Get the shapes to create the placeholders\n",
    "    m, nh, nw, nc = X_train.shape\n",
    "    m, ny = y_train.shape\n",
    "    \n",
    "    # Create Placeholders\n",
    "    X, y = create_placeholders(nh, nw, nc, ny)\n",
    "    \n",
    "    # Initialize the parameters and filters W1 - (3,3,3,8) W2 - (3,3,8,32)\n",
    "    parameters = initialize_parameters()\n",
    "    \n",
    "    # Compute Z3 Conv2d -> ReLU -> Maxpool -> Conv2d -> ReLU -> Maxpool -> Flatten -> FC(256 units) -> FC(6 units)\n",
    "    Z4 = forward_propagation(X, parameters)\n",
    "    \n",
    "    # Compute cost as tf.reduce_mean(tf.nn.softmax_cross_entropy_with_logits(Z3,y))\n",
    "    cost = compute_cost(Z4, y)\n",
    "    \n",
    "    # Back propagate the cost as tf.train.AdamOptimizer(alpha).minimize(cost)\n",
    "    optimizer = tf.train.AdamOptimizer(learning_rate=alpha).minimize(cost)\n",
    "    \n",
    "    # Initiate a session\n",
    "    with tf.Session() as sess:\n",
    "        \n",
    "        # Initialize global variables\n",
    "        init = tf.global_variables_initializer()\n",
    "        sess.run(init)\n",
    "        \n",
    "        # Iterate over epochs\n",
    "        for epoch in range(epochs + 1):\n",
    "            \n",
    "            # total number of mini batches = total examples/mini batch size\n",
    "            t_minibatches = math.ceil(m / batch_size)\n",
    "            \n",
    "            # Generate random mini batches from X_train and y_train\n",
    "            minibatches = random_mini_batches(X_train, y_train, batch_size, seed=3)\n",
    "            \n",
    "            # Set initial cost of the current epoch to 0\n",
    "            epoch_cost = 0.\n",
    "            \n",
    "            # Loop over the minibatches                        \n",
    "            for minibatch in minibatches:\n",
    "                \n",
    "                mini_X, mini_Y = minibatch\n",
    "                \n",
    "                # Compute mini batch cost by feeding mini batch X and mini batch Y to the cost expression\n",
    "                minibatch_cost = sess.run(cost, feed_dict={X : mini_X,\n",
    "                                                           y : mini_Y})\n",
    "                \n",
    "                # Run backpropagation by feeding mini batch X and mini batch Y to the optimizer expression\n",
    "                _ = sess.run(optimizer, feed_dict={X : mini_X,\n",
    "                                                   y : mini_Y})\n",
    "                \n",
    "                # Update the mini batch cost\n",
    "                epoch_cost += minibatch_cost\n",
    "                \n",
    "            # Calculate the epoch cost by averaging the computed cost \n",
    "            epoch_cost = epoch_cost / t_minibatches\n",
    "            costs.append(epoch_cost)\n",
    "            \n",
    "            if verbose and (epoch < 10 or epoch % 10 == 0):\n",
    "                print(\"Epoch: {}, Loss: {}\".format(epoch, epoch_cost))\n",
    "                \n",
    "        # plot the cost\n",
    "        plt.plot(np.squeeze(costs))\n",
    "        plt.ylabel('cost')\n",
    "        plt.xlabel('iterations (per tens)')\n",
    "        plt.title(\"Learning rate =\" + str(alpha))\n",
    "        plt.show()\n",
    "        \n",
    "        # Get the updated parameters\n",
    "        parameters = sess.run(parameters)\n",
    "        print(\"Weights have been optimized!!\")\n",
    "        \n",
    "        # Expression to predict yhat given X and y as tf.equal(tf.argmax(Z3,1), tf.argmax(y,1))\n",
    "        correct_predictions = tf.equal(tf.argmax(Z4,axis=1), tf.argmax(y,axis=1))\n",
    "        \n",
    "        # Expression to compute accuracy as tf.reduce_mean(tf.cast(yhat, dtype='float'))\n",
    "        accuracy = tf.reduce_mean(tf.cast(correct_predictions, dtype='float'))\n",
    "        \n",
    "        # Compute training accuracy by feeding X_train and y_train to the accuracy expression\n",
    "        train_acc = sess.run(accuracy, feed_dict={X : X_train,\n",
    "                                                  y : y_train})\n",
    "        \n",
    "        # Compute test accuracy by feeding X_test and y_test to the accuracy expression\n",
    "        test_acc = sess.run(accuracy, feed_dict={X : X_test,\n",
    "                                                 y : y_test})\n",
    "        \n",
    "        print(\"Train accuracy: \" + str(train_acc))\n",
    "        print(\"Test accuracy: \" + str(test_acc))\n",
    "    \n",
    "        return parameters    \n",
    "                          "
   ]
  },
  {
   "cell_type": "code",
   "execution_count": 87,
   "metadata": {},
   "outputs": [
    {
     "name": "stdout",
     "output_type": "stream",
     "text": [
      "Epoch: 0, Loss: 1.9973633990568274\n",
      "Epoch: 1, Loss: 1.627990393077626\n",
      "Epoch: 2, Loss: 1.1773791067740496\n",
      "Epoch: 3, Loss: 0.8968966953894671\n",
      "Epoch: 4, Loss: 0.686892123783336\n",
      "Epoch: 5, Loss: 0.5010206173448002\n",
      "Epoch: 6, Loss: 0.46810449221554923\n",
      "Epoch: 7, Loss: 0.38370324583614573\n",
      "Epoch: 8, Loss: 0.2856864184141159\n",
      "Epoch: 9, Loss: 0.241572025067666\n",
      "Epoch: 10, Loss: 0.19167505511466196\n",
      "Epoch: 20, Loss: 0.11499155027901425\n",
      "Epoch: 30, Loss: 0.06298177557833054\n",
      "Epoch: 40, Loss: 0.09649137265103705\n",
      "Epoch: 50, Loss: 0.05588310400900595\n",
      "Epoch: 60, Loss: 0.06820732530425577\n",
      "Epoch: 70, Loss: 0.06664697160286938\n",
      "Epoch: 80, Loss: 0.016581692541127697\n",
      "Epoch: 90, Loss: 0.059976716334109795\n",
      "Epoch: 100, Loss: 0.0640479661661255\n"
     ]
    },
    {
     "data": {
      "image/png": "[encoded data removed]",
      "text/plain": [
       "<Figure size 432x288 with 1 Axes>"
      ]
     },
     "metadata": {
      "needs_background": "light"
     },
     "output_type": "display_data"
    },
    {
     "name": "stdout",
     "output_type": "stream",
     "text": [
      "Weights have been optimized!!\n",
      "Train accuracy: 0.975\n",
      "Test accuracy: 0.875\n"
     ]
    }
   ],
   "source": [
    "parameters = model(X_train, Y_train, X_test, Y_test, batch_size=64, epochs=100, alpha=0.01, verbose=True)"
   ]
  },
  {
   "cell_type": "code",
   "execution_count": 88,
   "metadata": {},
   "outputs": [],
   "source": [
    "def save_weights(parameters, filename=\"weights_2.pkl\"):\n",
    "    \n",
    "    file = os.path.join(os.getcwd(), filename)\n",
    "    joblib.dump(parameters, file)"
   ]
  },
  {
   "cell_type": "code",
   "execution_count": 89,
   "metadata": {},
   "outputs": [],
   "source": [
    "save_weights(parameters)"
   ]
  }
 ],
 "metadata": {
  "kernelspec": {
   "display_name": "py35",
   "language": "python",
   "name": "py35"
  },
  "language_info": {
   "codemirror_mode": {
    "name": "ipython",
    "version": 3
   },
   "file_extension": ".py",
   "mimetype": "text/x-python",
   "name": "python",
   "nbconvert_exporter": "python",
   "pygments_lexer": "ipython3",
   "version": "3.5.6"
  }
 },
 "nbformat": 4,
 "nbformat_minor": 2
}
