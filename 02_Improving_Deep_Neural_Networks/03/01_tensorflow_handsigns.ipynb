{
 "cells": [
  {
   "cell_type": "markdown",
   "metadata": {},
   "source": [
    "## Tensorflow"
   ]
  },
  {
   "cell_type": "code",
   "execution_count": 208,
   "metadata": {},
   "outputs": [],
   "source": [
    "import math\n",
    "import numpy as np\n",
    "import h5py\n",
    "import matplotlib.pyplot as plt\n",
    "import tensorflow as tf\n",
    "from tensorflow.python.framework import ops\n",
    "from tf_utils import load_dataset, random_mini_batches, convert_to_one_hot, predict\n",
    "from sklearn.externals import joblib \n",
    "import os\n",
    "\n",
    "%matplotlib inline\n",
    "np.random.seed(1)"
   ]
  },
  {
   "cell_type": "code",
   "execution_count": 209,
   "metadata": {},
   "outputs": [
    {
     "data": {
      "text/plain": [
       "'1.10.0'"
      ]
     },
     "execution_count": 209,
     "metadata": {},
     "output_type": "execute_result"
    }
   ],
   "source": [
    "tf.__version__"
   ]
  },
  {
   "cell_type": "markdown",
   "metadata": {},
   "source": [
    "Writing and running programs in TensorFlow has the following steps:\n",
    "\n",
    "   1) Create Tensors (variables) that are not yet executed/evaluated. <br>\n",
    "   2) Write operations between those Tensors. <br>\n",
    "   3) Initialize your Tensors. <br>\n",
    "   4) Create a Session. <br>\n",
    "   5) Run the Session. This will run the operations you'd written above.\n"
   ]
  },
  {
   "cell_type": "markdown",
   "metadata": {},
   "source": [
    "### Some basic examples"
   ]
  },
  {
   "cell_type": "code",
   "execution_count": 8,
   "metadata": {},
   "outputs": [
    {
     "name": "stdout",
     "output_type": "stream",
     "text": [
      "36\n"
     ]
    }
   ],
   "source": [
    "y_hat = tf.constant(36, name='y_hat')\n",
    "y = tf.constant(30, name='y')\n",
    "\n",
    "loss = tf.Variable((y_hat - y)**2, name='loss')\n",
    "\n",
    "init = tf.global_variables_initializer()\n",
    "with tf.Session() as sess:\n",
    "    sess.run(init)\n",
    "    print(sess.run(loss))"
   ]
  },
  {
   "cell_type": "code",
   "execution_count": 53,
   "metadata": {},
   "outputs": [
    {
     "name": "stdout",
     "output_type": "stream",
     "text": [
      "24.21\n"
     ]
    }
   ],
   "source": [
    "x = tf.placeholder(tf.float32)\n",
    "W = tf.constant(3.3)\n",
    "b = tf.constant(0.78)\n",
    "\n",
    "z = tf.add(tf.multiply(x,W), b)\n",
    "\n",
    "with tf.Session() as sess:\n",
    "    print(sess.run(z, feed_dict={x : 7.1}))"
   ]
  },
  {
   "cell_type": "code",
   "execution_count": 64,
   "metadata": {},
   "outputs": [],
   "source": [
    "def linear_function(x):\n",
    "    \n",
    "    W = np.random.randn(5, 2) * 0.01\n",
    "    b = np.random.randn(5, 1)\n",
    "    \n",
    "    z = tf.add(tf.matmul(W, x), b)\n",
    "    \n",
    "    with tf.Session() as sess:\n",
    "        z = sess.run(z)\n",
    "        \n",
    "    return z\n",
    "    "
   ]
  },
  {
   "cell_type": "code",
   "execution_count": 65,
   "metadata": {},
   "outputs": [
    {
     "name": "stdout",
     "output_type": "stream",
     "text": [
      "[[-0.39820008 -0.42588157]\n",
      " [ 1.16853803  1.18881833]\n",
      " [ 0.42161028  0.41159359]\n",
      " [ 0.58631469  0.59231983]\n",
      " [-1.06464963 -1.06621025]]\n"
     ]
    }
   ],
   "source": [
    "x = np.array([[3, 1],[7, 5]], dtype=np.float64)\n",
    "z = linear_function(x)\n",
    "print(z)"
   ]
  },
  {
   "cell_type": "markdown",
   "metadata": {},
   "source": [
    "### Computing sigmoid"
   ]
  },
  {
   "cell_type": "code",
   "execution_count": 67,
   "metadata": {},
   "outputs": [],
   "source": [
    "def sigmoid(z):\n",
    "    \n",
    "    place_holder = tf.placeholder(tf.float32, name='place_holder')\n",
    "    sigmoid = tf.divide(1, (1 + tf.exp(-place_holder)))    # Or can call the function tf.sigmoid()\n",
    "    \n",
    "    with tf.Session() as sess:\n",
    "        result = sess.run(sigmoid, feed_dict={place_holder : z})\n",
    "        \n",
    "    return result"
   ]
  },
  {
   "cell_type": "code",
   "execution_count": 68,
   "metadata": {},
   "outputs": [
    {
     "name": "stdout",
     "output_type": "stream",
     "text": [
      "sigmoid(0) = 0.5\n",
      "sigmoid(12) = 0.9999938\n"
     ]
    }
   ],
   "source": [
    "print (\"sigmoid(0) = \" + str(sigmoid(0)))\n",
    "print (\"sigmoid(12) = \" + str(sigmoid(12)))"
   ]
  },
  {
   "cell_type": "markdown",
   "metadata": {},
   "source": [
    "### Computing Loss\n",
    "\n",
    "using tf.nn.sigmoid_cross_entropy_with_logits"
   ]
  },
  {
   "cell_type": "code",
   "execution_count": 81,
   "metadata": {},
   "outputs": [],
   "source": [
    "def compute_cost(logits, labels):\n",
    "    \"\"\"\n",
    "    Computes the cost using the sigmoid cross entropy\n",
    "    \n",
    "    Arguments:\n",
    "    logits -- vector containing z, output of the last linear unit (before the final sigmoid activation)\n",
    "    labels -- vector of labels y (1 or 0) \n",
    "    \n",
    "    Note: What we've been calling \"z\" and \"y\" in this class are respectively called \"logits\" and \"labels\" \n",
    "    in the TensorFlow documentation. So logits will feed into z, and labels into y. \n",
    "    \n",
    "    Returns:\n",
    "    cost -- runs the session of the cost (formula (2))\n",
    "    \"\"\"\n",
    "    \n",
    "    z = tf.placeholder(tf.float32, name='logits')\n",
    "    y = tf.placeholder(tf.float32, name='labels')\n",
    "    \n",
    "    loss = tf.nn.sigmoid_cross_entropy_with_logits(labels=y, logits=z)\n",
    "    \n",
    "    with tf.Session() as sess:\n",
    "        result = sess.run(loss, feed_dict={z: logits, y: labels})\n",
    "        \n",
    "    return result"
   ]
  },
  {
   "cell_type": "code",
   "execution_count": 83,
   "metadata": {},
   "outputs": [
    {
     "name": "stdout",
     "output_type": "stream",
     "text": [
      "cost = [1.0053872  1.0366408  0.41385433 0.39956617]\n"
     ]
    }
   ],
   "source": [
    "logits = sigmoid(np.array([0.2, 0.4, 0.7, 0.9]))\n",
    "cost = compute_cost(logits, np.array([0, 0, 1, 1]))\n",
    "print (\"cost = \" + str(cost))"
   ]
  },
  {
   "cell_type": "markdown",
   "metadata": {},
   "source": [
    "### Using One-hot encodings\n",
    "\n",
    "Using tf.one_hot(indices=matrix_to_be_encoded, depth='no_of_digits_per_element_in_input_matrix', axis=0 or 1)"
   ]
  },
  {
   "cell_type": "code",
   "execution_count": 111,
   "metadata": {},
   "outputs": [],
   "source": [
    "def one_hot_encoder(labels, C, axis):\n",
    "    \"\"\"\n",
    "    Creates a matrix where the i-th row corresponds to the ith class number and the jth column\n",
    "                     corresponds to the jth training example. So if example j had a label i. Then entry (i,j) \n",
    "                     will be 1. Each column represent a label if axis=0, each row will represent a label if axis=1\n",
    "                     \n",
    "    Arguments:\n",
    "    labels -- vector containing the labels \n",
    "    C -- number of classes, the depth of the one hot dimension\n",
    "    \n",
    "    Returns: \n",
    "    one_hot -- one hot matrix\n",
    "    \"\"\"\n",
    "    \n",
    "    C = tf.constant(C, tf.int32)\n",
    "    label_matrix = tf.placeholder(tf.int32)\n",
    "    \n",
    "    one_hot_encode = tf.one_hot(indices=label_matrix, depth=C, axis=axis)\n",
    "    \n",
    "    with tf.Session() as sess:\n",
    "        one_hot_encoded_op = sess.run(one_hot_encode, feed_dict = {label_matrix : labels})\n",
    "        \n",
    "    return one_hot_encoded_op\n",
    "        \n",
    "    "
   ]
  },
  {
   "cell_type": "code",
   "execution_count": 112,
   "metadata": {},
   "outputs": [
    {
     "name": "stdout",
     "output_type": "stream",
     "text": [
      "Along axis=0 each column represents a label\n",
      "[[0. 0. 0. 1. 0. 0.]\n",
      " [1. 0. 0. 0. 0. 1.]\n",
      " [0. 1. 0. 0. 1. 0.]\n",
      " [0. 0. 1. 0. 0. 0.]]\n",
      "It's shape: (4, 6)\n",
      "Along axis=1 each row represents a label\n",
      "[[0. 1. 0. 0.]\n",
      " [0. 0. 1. 0.]\n",
      " [0. 0. 0. 1.]\n",
      " [1. 0. 0. 0.]\n",
      " [0. 0. 1. 0.]\n",
      " [0. 1. 0. 0.]]\n",
      "It's shape: (6, 4)\n"
     ]
    }
   ],
   "source": [
    "labels = np.array([1,2,3,0,2,1])\n",
    "\n",
    "one_hot_along_axis0 = one_hot_encoder(labels, C=4, axis=0)\n",
    "print (\"Along axis=0 each column represents a label\\n\" + str(one_hot_along_axis0))\n",
    "print(\"It's shape: \" + str(one_hot_along_axis0.shape))\n",
    "\n",
    "one_hot_along_axis1 = one_hot_encoder(labels, C=4, axis=1)\n",
    "print (\"Along axis=1 each row represents a label\\n\" + str(one_hot_along_axis1))\n",
    "print(\"It's shape: \" + str(one_hot_along_axis1.shape))"
   ]
  },
  {
   "cell_type": "markdown",
   "metadata": {},
   "source": [
    "### Builing a Model to recognize the number represented by hand signs"
   ]
  },
  {
   "cell_type": "code",
   "execution_count": 105,
   "metadata": {},
   "outputs": [
    {
     "name": "stdout",
     "output_type": "stream",
     "text": [
      "(1080, 64, 64, 3)\n",
      "(1, 1080)\n",
      "(120, 64, 64, 3)\n",
      "(1, 120)\n",
      "Number of train examples: 1080\n",
      "Number of test examples: 120\n"
     ]
    }
   ],
   "source": [
    "# Loading the dataset\n",
    "X_train_orig, y_train_orig, X_test_orig, y_test_orig, classes = load_dataset()\n",
    "print(X_train_orig.shape)\n",
    "print(y_train_orig.shape)\n",
    "print(X_test_orig.shape)\n",
    "print(y_test_orig.shape)\n",
    "\n",
    "print(\"Number of train examples: \" + str(y_train_orig.shape[1]))\n",
    "print(\"Number of test examples: \" + str(y_test_orig.shape[1]))"
   ]
  },
  {
   "cell_type": "code",
   "execution_count": 100,
   "metadata": {},
   "outputs": [
    {
     "name": "stdout",
     "output_type": "stream",
     "text": [
      "y = 5\n"
     ]
    },
    {
     "data": {
      "image/png": "[encoded data removed]",
      "text/plain": [
       "<Figure size 432x288 with 1 Axes>"
      ]
     },
     "metadata": {
      "needs_background": "light"
     },
     "output_type": "display_data"
    }
   ],
   "source": [
    "# Example of a picture\n",
    "index = 0\n",
    "plt.imshow(X_train_orig[index])\n",
    "print (\"y = \" + str(np.squeeze(Y_train_orig[:, index])))"
   ]
  },
  {
   "cell_type": "code",
   "execution_count": 131,
   "metadata": {},
   "outputs": [
    {
     "name": "stdout",
     "output_type": "stream",
     "text": [
      "(12288, 1080) (12288, 120)\n",
      "(6, 1080) (6, 120)\n"
     ]
    }
   ],
   "source": [
    "# Preprocess the data\n",
    "\n",
    "num_classes = classes.shape[0]\n",
    "\n",
    "X_train = X_train_orig.reshape(X_train_orig.shape[0], -1).T\n",
    "X_test = X_test_orig.reshape(X_test_orig.shape[0], -1).T\n",
    "\n",
    "X_train = X_train / X_train.max()\n",
    "X_test = X_test / X_test.max()\n",
    "\n",
    "# Reshape to convert (n_classes, 1, n_examples) to (n_classes, n_examples)\n",
    "y_train = one_hot_encoder(y_train_orig, num_classes, axis=0).reshape(y_train.shape[0],-1) \n",
    "y_test = one_hot_encoder(y_test_orig, num_classes, axis=0).reshape(y_train.shape[0],-1)\n",
    "\n",
    "print(X_train.shape, X_test.shape)\n",
    "print(y_train.shape, y_test.shape)"
   ]
  },
  {
   "cell_type": "code",
   "execution_count": 134,
   "metadata": {},
   "outputs": [],
   "source": [
    "# Create placeholders for X and y\n",
    "\n",
    "def create_placeholders(n_x, n_y):\n",
    "    \"\"\"\n",
    "    Creates the placeholders for the tensorflow session.\n",
    "    \n",
    "    Arguments:\n",
    "    n_x -- scalar, size of an image vector (num_px * num_px = 64 * 64 * 3 = 12288)\n",
    "    n_y -- scalar, number of classes (from 0 to 5, so -> 6)\n",
    "    \n",
    "    Returns:\n",
    "    X -- placeholder for the data input, of shape [n_x, None] and dtype \"float\"\n",
    "    Y -- placeholder for the input labels, of shape [n_y, None] and dtype \"float\"\n",
    "    \n",
    "    Tips:\n",
    "    - You will use None because it let's us be flexible on the number of examples you will for the placeholders.\n",
    "      In fact, the number of examples during test/train is different.\n",
    "    \"\"\"\n",
    "    \n",
    "    X = tf.placeholder(tf.float32, shape=(n_x, None), name='X')\n",
    "    y = tf.placeholder(tf.float32, shape=(n_y, None), name='y')\n",
    "    \n",
    "    return X, y"
   ]
  },
  {
   "cell_type": "code",
   "execution_count": 135,
   "metadata": {},
   "outputs": [
    {
     "name": "stdout",
     "output_type": "stream",
     "text": [
      "X = Tensor(\"X_16:0\", shape=(12288, ?), dtype=float32)\n",
      "Y = Tensor(\"y_4:0\", shape=(6, ?), dtype=float32)\n"
     ]
    }
   ],
   "source": [
    "X, Y = create_placeholders(12288, 6)\n",
    "print(\"X = \" + str(X))\n",
    "print(\"Y = \" + str(Y))"
   ]
  },
  {
   "cell_type": "code",
   "execution_count": 138,
   "metadata": {},
   "outputs": [],
   "source": [
    "# Initialize the parameters\n",
    "\n",
    "def initialize_parameters():\n",
    "    \"\"\"\n",
    "    Initializes parameters to build a neural network with tensorflow. The shapes are:\n",
    "                        W1 : [25, 12288]\n",
    "                        b1 : [25, 1]\n",
    "                        W2 : [12, 25]\n",
    "                        b2 : [12, 1]\n",
    "                        W3 : [6, 12]\n",
    "                        b3 : [6, 1]\n",
    "    Wi = tf.get_variable(\"Wi\", (nl,nl-1), initializer = tf.contrib.layers.xavier_initializer(seed = 1))\n",
    "    bi = tf.get_variable(\"bi\", (nl,1), initializer = tf.zeros_initializer())\n",
    "    \n",
    "    Returns:\n",
    "    parameters -- a dictionary of tensors containing W1, b1, W2, b2, W3, b3\n",
    "    \"\"\"\n",
    "    \n",
    "    W1 = tf.get_variable(\"W1\", (25, 12288), initializer=tf.contrib.layers.xavier_initializer(seed=1))\n",
    "    b1 = tf.get_variable(\"b1\", (25, 1), initializer=tf.zeros_initializer())\n",
    "    \n",
    "    W2 = tf.get_variable(\"W2\", (12, 25), initializer=tf.contrib.layers.xavier_initializer(seed=1))\n",
    "    b2 = tf.get_variable(\"b2\", (12, 1), initializer=tf.zeros_initializer())\n",
    "    \n",
    "    W3 = tf.get_variable(\"W3\", (6, 12), initializer=tf.contrib.layers.xavier_initializer(seed=1))\n",
    "    b3 = tf.get_variable(\"b3\", (6, 1), initializer=tf.zeros_initializer())\n",
    "    \n",
    "    parameters = {\n",
    "        \"W1\" : W1,\n",
    "        \"b1\" : b1,\n",
    "        \"W2\" : W2,\n",
    "        \"b2\" : b2,\n",
    "        \"W3\" : W3,\n",
    "        \"b3\" : b3\n",
    "    }\n",
    "    \n",
    "    return parameters"
   ]
  },
  {
   "cell_type": "code",
   "execution_count": 140,
   "metadata": {},
   "outputs": [
    {
     "name": "stdout",
     "output_type": "stream",
     "text": [
      "W1 = <tf.Variable 'W1:0' shape=(25, 12288) dtype=float32_ref>\n",
      "b1 = <tf.Variable 'b1:0' shape=(25, 1) dtype=float32_ref>\n",
      "W2 = <tf.Variable 'W2:0' shape=(12, 25) dtype=float32_ref>\n",
      "b2 = <tf.Variable 'b2:0' shape=(12, 1) dtype=float32_ref>\n",
      "W3 = <tf.Variable 'W3:0' shape=(6, 12) dtype=float32_ref>\n",
      "b3 = <tf.Variable 'b3:0' shape=(6, 1) dtype=float32_ref>\n"
     ]
    }
   ],
   "source": [
    "tf.reset_default_graph()\n",
    "with tf.Session() as sess:\n",
    "    parameters = initialize_parameters()\n",
    "    print(\"W1 = \" + str(parameters[\"W1\"]))\n",
    "    print(\"b1 = \" + str(parameters[\"b1\"]))\n",
    "    print(\"W2 = \" + str(parameters[\"W2\"]))\n",
    "    print(\"b2 = \" + str(parameters[\"b2\"]))\n",
    "    print(\"W3 = \" + str(parameters[\"W3\"]))\n",
    "    print(\"b3 = \" + str(parameters[\"b3\"]))"
   ]
  },
  {
   "cell_type": "markdown",
   "metadata": {},
   "source": [
    "### Forward propagation"
   ]
  },
  {
   "cell_type": "code",
   "execution_count": 141,
   "metadata": {},
   "outputs": [],
   "source": [
    "def forward_propagation(X, parameters):\n",
    "    \"\"\"\n",
    "    Implements the forward propagation for the model: LINEAR -> RELU -> LINEAR -> RELU -> LINEAR -> SOFTMAX\n",
    "    \n",
    "    Arguments:\n",
    "    X -- input dataset placeholder, of shape (input size, number of examples)\n",
    "    parameters -- python dictionary containing your parameters \"W1\", \"b1\", \"W2\", \"b2\", \"W3\", \"b3\"\n",
    "                  the shapes are given in initialize_parameters\n",
    "\n",
    "    Returns:\n",
    "    Z3 -- the output of the last LINEAR unit\n",
    "    \"\"\"\n",
    "    \n",
    "    W1 = parameters[\"W1\"]\n",
    "    b1 = parameters[\"b1\"]\n",
    "    W2 = parameters[\"W2\"]\n",
    "    b2 = parameters[\"b2\"]\n",
    "    W3 = parameters[\"W3\"]\n",
    "    b3 = parameters[\"b3\"]\n",
    "    \n",
    "    Z1 = tf.add(tf.matmul(W1, X), b1)\n",
    "    A1 = tf.nn.relu(Z1)\n",
    "    \n",
    "    Z2 = tf.add(tf.matmul(W2, A1), b2)\n",
    "    A2 = tf.nn.relu(Z2)\n",
    "    \n",
    "    Z3 = tf.add(tf.matmul(W3, A2), b3)\n",
    "    \n",
    "    return Z3"
   ]
  },
  {
   "cell_type": "code",
   "execution_count": 142,
   "metadata": {},
   "outputs": [
    {
     "name": "stdout",
     "output_type": "stream",
     "text": [
      "Z3 = Tensor(\"Add_2:0\", shape=(6, ?), dtype=float32)\n"
     ]
    }
   ],
   "source": [
    "tf.reset_default_graph()\n",
    "\n",
    "with tf.Session() as sess:\n",
    "    X, Y = create_placeholders(12288, 6)\n",
    "    parameters = initialize_parameters()\n",
    "    Z3 = forward_propagation(X, parameters)\n",
    "    print(\"Z3 = \" + str(Z3))"
   ]
  },
  {
   "cell_type": "markdown",
   "metadata": {},
   "source": [
    "### Compute Cost"
   ]
  },
  {
   "cell_type": "code",
   "execution_count": 191,
   "metadata": {},
   "outputs": [],
   "source": [
    "def compute_cost(Z3, Y):\n",
    "    \"\"\"\n",
    "    Computes the cost\n",
    "    \n",
    "    Arguments:\n",
    "    Z3 -- output of forward propagation (output of the last LINEAR unit), of shape (6, number of examples)\n",
    "    Y -- \"true\" labels vector placeholder, same shape as Z3\n",
    "    \n",
    "    Returns:\n",
    "    cost - Tensor of the cost function\n",
    "    \"\"\"\n",
    "    # to fit the tensorflow requirement for tf.nn.softmax_cross_entropy_with_logits\n",
    "    logits = tf.transpose(Z3)\n",
    "    labels = tf.transpose(Y)\n",
    "    \n",
    "    cost = tf.reduce_mean(tf.nn.softmax_cross_entropy_with_logits(logits=logits, labels=labels))\n",
    "    \n",
    "    return cost"
   ]
  },
  {
   "cell_type": "code",
   "execution_count": 192,
   "metadata": {},
   "outputs": [
    {
     "name": "stdout",
     "output_type": "stream",
     "text": [
      "cost = Tensor(\"Mean:0\", shape=(), dtype=float32)\n"
     ]
    }
   ],
   "source": [
    "tf.reset_default_graph()\n",
    "\n",
    "with tf.Session() as sess:\n",
    "    X, Y = create_placeholders(12288, 6)\n",
    "    parameters = initialize_parameters()\n",
    "    Z3 = forward_propagation(X, parameters)\n",
    "    cost = compute_cost(Z3, Y)\n",
    "    print(\"cost = \" + str(cost))"
   ]
  },
  {
   "cell_type": "markdown",
   "metadata": {},
   "source": [
    "### Define the Model"
   ]
  },
  {
   "cell_type": "code",
   "execution_count": 197,
   "metadata": {},
   "outputs": [],
   "source": [
    "def model(X_train, y_train, X_test, y_test, alpha = 0.0001, num_epochs = 1500, \n",
    "          minibatch_size = 32, verbose = True):\n",
    "    \"\"\"\n",
    "    Implements a three-layer tensorflow neural network: LINEAR->RELU->LINEAR->RELU->LINEAR->SOFTMAX.\n",
    "    \n",
    "    Arguments:\n",
    "    X_train -- training set, of shape (input size = 12288, number of training examples = 1080)\n",
    "    y_train -- test set, of shape (output size = 6, number of training examples = 1080)\n",
    "    X_test -- training set, of shape (input size = 12288, number of training examples = 120)\n",
    "    y_test -- test set, of shape (output size = 6, number of test examples = 120)\n",
    "    alpha -- learning rate of the optimization\n",
    "    num_epochs -- number of epochs of the optimization loop\n",
    "    minibatch_size -- size of a minibatch\n",
    "    verbose -- True to print the cost every 5 epochs\n",
    "    \n",
    "    Returns:\n",
    "    parameters -- parameters learnt by the model. They can then be used to predict.\n",
    "    \"\"\"\n",
    "    \n",
    "    ops.reset_default_graph() # to be able to rerun the model without overwriting tf variables\n",
    "    tf.set_random_seed(1)\n",
    "    seed = 3\n",
    "    \n",
    "    costs = []\n",
    "    n_x, m = X_train.shape\n",
    "    n_y = y_train.shape[0]\n",
    "    \n",
    "    X, y = create_placeholders(n_x, n_y)\n",
    "    parameters = initialize_parameters()\n",
    "    \n",
    "    Z3 = forward_propagation(X=X, parameters=parameters)\n",
    "    \n",
    "    cost = compute_cost(Z3, y)\n",
    "    \n",
    "    #####################################BACKPROP#########################\n",
    "    optimizer = tf.train.AdamOptimizer(learning_rate=alpha).minimize(cost)\n",
    "    ######################################################################\n",
    "    \n",
    "    init = tf.global_variables_initializer()\n",
    "    \n",
    "    with tf.Session() as sess:\n",
    "        \n",
    "        sess.run(init)\n",
    "        \n",
    "        for epoch in range(num_epochs):\n",
    "            \n",
    "            epoch_cost = 0.\n",
    "            t = int(m / minibatch_size) # t - total number of minibatches\n",
    "            seed = seed + 1\n",
    "            minibatches = random_mini_batches(X_train, y_train, minibatch_size, seed)\n",
    "            \n",
    "            for minibatch in minibatches:\n",
    "                \n",
    "                minibatch_X, minibatch_y = minibatch\n",
    "                minibatch_cost = sess.run(cost, feed_dict={X : minibatch_X, \n",
    "                                                           y : minibatch_y})\n",
    "                _ = sess.run(optimizer, feed_dict={X : minibatch_X, \n",
    "                                                   y : minibatch_y})\n",
    "                epoch_cost += minibatch_cost / t\n",
    "                \n",
    "            if verbose == True and epoch % 50 == 0:\n",
    "                print (\"Cost after epoch %i: %f\" % (epoch, epoch_cost))\n",
    "             \n",
    "            if verbose == True and epoch % 5 == 0:\n",
    "                costs.append(epoch_cost)\n",
    "                \n",
    "        # plot the cost\n",
    "        plt.plot(np.squeeze(costs))\n",
    "        plt.ylabel('cost')\n",
    "        plt.xlabel('iterations (per tens)')\n",
    "        plt.title(\"Learning rate =\" + str(alpha))\n",
    "        plt.show()\n",
    "        \n",
    "        # Update the parameters at the end of training\n",
    "        parameters = sess.run(parameters)\n",
    "        print(\"Weights have been trained!\")\n",
    "        \n",
    "        # Predictions\n",
    "        correct_predictions = tf.equal(tf.argmax(Z3), tf.argmax(y))\n",
    "        \n",
    "        # Accuracy\n",
    "        accuracy = tf.reduce_mean(tf.cast(correct_predictions, dtype='float'))\n",
    "        \n",
    "        # Compute train and test accuracy\n",
    "        train_acc = sess.run(accuracy, feed_dict={X : X_train,\n",
    "                                                  y : y_train})\n",
    "        test_acc = sess.run(accuracy, feed_dict={X : X_test,\n",
    "                                                 y : y_test})\n",
    "        \n",
    "        print(\"Train accuracy: \" + str(train_acc))\n",
    "        print(\"Test accuracy: \" + str(test_acc))\n",
    "        \n",
    "        return parameters     \n",
    "               \n",
    "    "
   ]
  },
  {
   "cell_type": "code",
   "execution_count": 198,
   "metadata": {},
   "outputs": [
    {
     "name": "stdout",
     "output_type": "stream",
     "text": [
      "Cost after epoch 0: 1.856599\n",
      "Cost after epoch 50: 1.483496\n",
      "Cost after epoch 100: 1.030758\n",
      "Cost after epoch 150: 0.861951\n",
      "Cost after epoch 200: 0.732693\n",
      "Cost after epoch 250: 0.635604\n",
      "Cost after epoch 300: 0.575480\n",
      "Cost after epoch 350: 0.536521\n",
      "Cost after epoch 400: 0.464848\n",
      "Cost after epoch 450: 0.415730\n",
      "Cost after epoch 500: 0.375019\n",
      "Cost after epoch 550: 0.341738\n",
      "Cost after epoch 600: 0.314070\n",
      "Cost after epoch 650: 0.282846\n",
      "Cost after epoch 700: 0.244342\n",
      "Cost after epoch 750: 0.219799\n",
      "Cost after epoch 800: 0.197800\n",
      "Cost after epoch 850: 0.183882\n",
      "Cost after epoch 900: 0.161732\n",
      "Cost after epoch 950: 0.139801\n",
      "Cost after epoch 1000: 0.136123\n",
      "Cost after epoch 1050: 0.118002\n",
      "Cost after epoch 1100: 0.101406\n",
      "Cost after epoch 1150: 0.086815\n",
      "Cost after epoch 1200: 0.086436\n",
      "Cost after epoch 1250: 0.066010\n",
      "Cost after epoch 1300: 0.055728\n",
      "Cost after epoch 1350: 0.049874\n",
      "Cost after epoch 1400: 0.048634\n",
      "Cost after epoch 1450: 0.037441\n"
     ]
    },
    {
     "data": {
      "image/png": "[encoded data removed]",
      "text/plain": [
       "<Figure size 432x288 with 1 Axes>"
      ]
     },
     "metadata": {
      "needs_background": "light"
     },
     "output_type": "display_data"
    },
    {
     "name": "stdout",
     "output_type": "stream",
     "text": [
      "Weights have been trained!\n",
      "Train accuracy: 0.9990741\n",
      "Test accuracy: 0.7583333\n"
     ]
    }
   ],
   "source": [
    "parameters = model(X_train, y_train, X_test, y_test)"
   ]
  },
  {
   "cell_type": "code",
   "execution_count": 213,
   "metadata": {},
   "outputs": [],
   "source": [
    "def save_weights(parameters, filename=\"weights.pkl\"):\n",
    "    \n",
    "    file = os.path.join(os.getcwd(), filename)\n",
    "    joblib.dump(parameters, file)"
   ]
  },
  {
   "cell_type": "code",
   "execution_count": 214,
   "metadata": {},
   "outputs": [],
   "source": [
    "save_weights(parameters)\n",
    "\n",
    "##############To load the parameters###############################\n",
    "#load_parms = joblib.load(os.path.join(os.getcwd(),'weights.pkl'))#\n",
    "###################################################################"
   ]
  }
 ],
 "metadata": {
  "kernelspec": {
   "display_name": "py35",
   "language": "python",
   "name": "py35"
  },
  "language_info": {
   "codemirror_mode": {
    "name": "ipython",
    "version": 3
   },
   "file_extension": ".py",
   "mimetype": "text/x-python",
   "name": "python",
   "nbconvert_exporter": "python",
   "pygments_lexer": "ipython3",
   "version": "3.5.6"
  }
 },
 "nbformat": 4,
 "nbformat_minor": 2
}
